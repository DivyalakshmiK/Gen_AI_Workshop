{
  "nbformat": 4,
  "nbformat_minor": 0,
  "metadata": {
    "colab": {
      "provenance": []
    },
    "kernelspec": {
      "name": "python3",
      "display_name": "Python 3"
    },
    "language_info": {
      "name": "python"
    }
  },
  "cells": [
    {
      "cell_type": "code",
      "execution_count": 1,
      "metadata": {
        "colab": {
          "base_uri": "https://localhost:8080/"
        },
        "id": "XqvgaRMPc_nM",
        "outputId": "c092f5e4-3714-4a6e-d1a1-2ce232219280"
      },
      "outputs": [
        {
          "output_type": "stream",
          "name": "stdout",
          "text": [
            "Requirement already satisfied: silero in /usr/local/lib/python3.10/dist-packages (0.4.1)\n",
            "Requirement already satisfied: torch in /usr/local/lib/python3.10/dist-packages (2.5.1+cu121)\n",
            "Requirement already satisfied: torchaudio in /usr/local/lib/python3.10/dist-packages (2.5.1+cu121)\n",
            "Requirement already satisfied: omegaconf>=2.1.0 in /usr/local/lib/python3.10/dist-packages (from silero) (2.3.0)\n",
            "Requirement already satisfied: filelock in /usr/local/lib/python3.10/dist-packages (from torch) (3.16.1)\n",
            "Requirement already satisfied: typing-extensions>=4.8.0 in /usr/local/lib/python3.10/dist-packages (from torch) (4.12.2)\n",
            "Requirement already satisfied: networkx in /usr/local/lib/python3.10/dist-packages (from torch) (3.4.2)\n",
            "Requirement already satisfied: jinja2 in /usr/local/lib/python3.10/dist-packages (from torch) (3.1.4)\n",
            "Requirement already satisfied: fsspec in /usr/local/lib/python3.10/dist-packages (from torch) (2024.10.0)\n",
            "Requirement already satisfied: sympy==1.13.1 in /usr/local/lib/python3.10/dist-packages (from torch) (1.13.1)\n",
            "Requirement already satisfied: mpmath<1.4,>=1.1.0 in /usr/local/lib/python3.10/dist-packages (from sympy==1.13.1->torch) (1.3.0)\n",
            "Requirement already satisfied: antlr4-python3-runtime==4.9.* in /usr/local/lib/python3.10/dist-packages (from omegaconf>=2.1.0->silero) (4.9.3)\n",
            "Requirement already satisfied: PyYAML>=5.1.0 in /usr/local/lib/python3.10/dist-packages (from omegaconf>=2.1.0->silero) (6.0.2)\n",
            "Requirement already satisfied: MarkupSafe>=2.0 in /usr/local/lib/python3.10/dist-packages (from jinja2->torch) (3.0.2)\n"
          ]
        }
      ],
      "source": [
        "!pip install silero torch torchaudio"
      ]
    },
    {
      "cell_type": "code",
      "source": [
        "import torchaudio\n",
        "import torch\n",
        "from silero import silero_tts\n",
        "\n",
        "\n",
        "def generate(text, output = \"silero_output.wav\", language = \"en\", speaker = 'lj_16khz'):\n",
        "\n",
        "  print(\"Loading...\")\n",
        "  device = torch.device('cpu')\n",
        "  model, symbols, sample_rate, example_text, apply_tts = torch.hub.load(repo_or_dir='snakers4/silero-models',\n",
        "                                                                      model='silero_tts',\n",
        "                                                                      language=language,\n",
        "                                                                      speaker=speaker,\n",
        "                                                                        quantized = True)\n",
        "  model = model.to(device)\n",
        "\n",
        "\n",
        "  print(\"Model loaded, audio generating...\")\n",
        "  audio = apply_tts(texts=[text], model = model, sample_rate=sample_rate, symbols = symbols, device=device)[0]\n",
        "\n",
        "\n",
        "\n",
        "  torchaudio.save(output,audio.unsqueeze(0), 24000)\n",
        "  print(\"Audio saved!\")\n",
        "\n"
      ],
      "metadata": {
        "id": "6Z8MT6o5gPv1"
      },
      "execution_count": 31,
      "outputs": []
    },
    {
      "cell_type": "code",
      "source": [
        "text = \"Hello! this is the demonstration of the brilliancy of the Silero TTS quantized model. Make sure to use it in your projects!\"\n",
        "generate(text)"
      ],
      "metadata": {
        "colab": {
          "base_uri": "https://localhost:8080/"
        },
        "id": "3TjiQRrvha-Z",
        "outputId": "dd362376-6b15-447a-fb72-f3bf9a91b159"
      },
      "execution_count": 32,
      "outputs": [
        {
          "output_type": "stream",
          "name": "stdout",
          "text": [
            "Loading...\n"
          ]
        },
        {
          "output_type": "stream",
          "name": "stderr",
          "text": [
            "Using cache found in /root/.cache/torch/hub/snakers4_silero-models_master\n"
          ]
        },
        {
          "output_type": "stream",
          "name": "stdout",
          "text": [
            "Model loaded, audio generating...\n",
            "Audio saved!\n"
          ]
        }
      ]
    }
  ]
}