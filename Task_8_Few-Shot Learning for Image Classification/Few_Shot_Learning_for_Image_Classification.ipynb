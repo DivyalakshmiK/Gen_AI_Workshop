{
  "nbformat": 4,
  "nbformat_minor": 0,
  "metadata": {
    "colab": {
      "provenance": [],
      "gpuType": "T4"
    },
    "kernelspec": {
      "name": "python3",
      "display_name": "Python 3"
    },
    "language_info": {
      "name": "python"
    },
    "accelerator": "GPU"
  },
  "cells": [
    {
      "cell_type": "code",
      "execution_count": 1,
      "metadata": {
        "colab": {
          "base_uri": "https://localhost:8080/"
        },
        "id": "uHnMOpc-towx",
        "outputId": "cd7f987c-13ad-4ea6-a8ff-be1f3724d31d"
      },
      "outputs": [
        {
          "output_type": "stream",
          "name": "stdout",
          "text": [
            "Requirement already satisfied: torch in /usr/local/lib/python3.10/dist-packages (2.5.1+cu121)\n",
            "Requirement already satisfied: torchvision in /usr/local/lib/python3.10/dist-packages (0.20.1+cu121)\n",
            "Requirement already satisfied: numpy in /usr/local/lib/python3.10/dist-packages (1.26.4)\n",
            "Requirement already satisfied: matplotlib in /usr/local/lib/python3.10/dist-packages (3.8.0)\n",
            "Requirement already satisfied: filelock in /usr/local/lib/python3.10/dist-packages (from torch) (3.16.1)\n",
            "Requirement already satisfied: typing-extensions>=4.8.0 in /usr/local/lib/python3.10/dist-packages (from torch) (4.12.2)\n",
            "Requirement already satisfied: networkx in /usr/local/lib/python3.10/dist-packages (from torch) (3.4.2)\n",
            "Requirement already satisfied: jinja2 in /usr/local/lib/python3.10/dist-packages (from torch) (3.1.4)\n",
            "Requirement already satisfied: fsspec in /usr/local/lib/python3.10/dist-packages (from torch) (2024.10.0)\n",
            "Requirement already satisfied: sympy==1.13.1 in /usr/local/lib/python3.10/dist-packages (from torch) (1.13.1)\n",
            "Requirement already satisfied: mpmath<1.4,>=1.1.0 in /usr/local/lib/python3.10/dist-packages (from sympy==1.13.1->torch) (1.3.0)\n",
            "Requirement already satisfied: pillow!=8.3.*,>=5.3.0 in /usr/local/lib/python3.10/dist-packages (from torchvision) (11.0.0)\n",
            "Requirement already satisfied: contourpy>=1.0.1 in /usr/local/lib/python3.10/dist-packages (from matplotlib) (1.3.1)\n",
            "Requirement already satisfied: cycler>=0.10 in /usr/local/lib/python3.10/dist-packages (from matplotlib) (0.12.1)\n",
            "Requirement already satisfied: fonttools>=4.22.0 in /usr/local/lib/python3.10/dist-packages (from matplotlib) (4.55.0)\n",
            "Requirement already satisfied: kiwisolver>=1.0.1 in /usr/local/lib/python3.10/dist-packages (from matplotlib) (1.4.7)\n",
            "Requirement already satisfied: packaging>=20.0 in /usr/local/lib/python3.10/dist-packages (from matplotlib) (24.2)\n",
            "Requirement already satisfied: pyparsing>=2.3.1 in /usr/local/lib/python3.10/dist-packages (from matplotlib) (3.2.0)\n",
            "Requirement already satisfied: python-dateutil>=2.7 in /usr/local/lib/python3.10/dist-packages (from matplotlib) (2.8.2)\n",
            "Requirement already satisfied: six>=1.5 in /usr/local/lib/python3.10/dist-packages (from python-dateutil>=2.7->matplotlib) (1.16.0)\n",
            "Requirement already satisfied: MarkupSafe>=2.0 in /usr/local/lib/python3.10/dist-packages (from jinja2->torch) (3.0.2)\n"
          ]
        }
      ],
      "source": [
        "!pip install torch torchvision numpy matplotlib\n"
      ]
    },
    {
      "cell_type": "code",
      "source": [
        "import torch\n",
        "import torch.nn as nn\n",
        "import torch.optim as optim\n",
        "import torchvision.transforms as transforms\n",
        "from torchvision.datasets import Omniglot\n",
        "from torch.utils.data import DataLoader, Dataset\n",
        "import numpy as np\n",
        "import random\n"
      ],
      "metadata": {
        "id": "ogGMJWjXtqiv"
      },
      "execution_count": 12,
      "outputs": []
    },
    {
      "cell_type": "code",
      "source": [
        "class FewShotDataset(Dataset):\n",
        "    def __init__(self, dataset, n_way, k_shot, q_query, transform=None):\n",
        "        self.dataset = dataset\n",
        "        self.n_way = n_way\n",
        "        self.k_shot = k_shot\n",
        "        self.q_query = q_query\n",
        "        self.transform = transform\n",
        "\n",
        "        self.data_by_class = self._organize_by_class()\n",
        "\n",
        "    def _organize_by_class(self):\n",
        "        data_by_class = {}\n",
        "        for i, (img, label) in enumerate(self.dataset):\n",
        "            if label not in data_by_class:\n",
        "                data_by_class[label] = []\n",
        "            data_by_class[label].append(img)\n",
        "        return data_by_class\n",
        "\n",
        "    def __getitem__(self, idx):\n",
        "\n",
        "        sampled_classes = random.sample(list(self.data_by_class.keys()), min(self.n_way, len(self.data_by_class)))\n",
        "\n",
        "        support_set, query_set, labels = [], [], []\n",
        "\n",
        "        for class_index, class_id in enumerate(sampled_classes):\n",
        "            class_images = self.data_by_class[class_id]\n",
        "            total_images = len(class_images)\n",
        "            num_samples = min(total_images, self.k_shot + self.q_query)\n",
        "\n",
        "            sampled_images = random.sample(class_images, num_samples)\n",
        "            support_images = sampled_images[:self.k_shot]\n",
        "            query_images = sampled_images[self.k_shot:]\n",
        "\n",
        "            if self.transform:\n",
        "                support_images = [self.transform(img) for img in support_images]\n",
        "                query_images = [self.transform(img) for img in query_images]\n",
        "\n",
        "            support_set.extend(support_images)\n",
        "            query_set.extend(query_images)\n",
        "            labels.extend([class_index] * len(query_images))\n",
        "\n",
        "        support_set = torch.stack(support_set)\n",
        "        query_set = torch.stack(query_set)\n",
        "        labels = torch.tensor(labels, dtype=torch.long)\n",
        "\n",
        "        return support_set, query_set, labels\n",
        "\n",
        "    def __len__(self):\n",
        "        return len(self.data_by_class)\n"
      ],
      "metadata": {
        "id": "j1DNkReRtu8d"
      },
      "execution_count": 16,
      "outputs": []
    },
    {
      "cell_type": "code",
      "source": [
        "class PrototypicalNetwork(nn.Module):\n",
        "    def __init__(self, input_size, embedding_size):\n",
        "        super(PrototypicalNetwork, self).__init__()\n",
        "        self.encoder = nn.Sequential(\n",
        "            nn.Conv2d(input_size, 64, kernel_size=3, stride=1, padding=1),\n",
        "            nn.ReLU(),\n",
        "            nn.MaxPool2d(2),\n",
        "            nn.Conv2d(64, 128, kernel_size=3, stride=1, padding=1),\n",
        "            nn.ReLU(),\n",
        "            nn.MaxPool2d(2)\n",
        "        )\n",
        "        self.fc = nn.Linear(128 * 7 * 7, embedding_size)\n",
        "\n",
        "    def forward(self, x):\n",
        "        x = self.encoder(x)\n",
        "        x = x.view(x.size(0), -1)\n",
        "        return self.fc(x)\n",
        "\n",
        "    def compute_prototypes(self, support_set, support_labels):\n",
        "        unique_labels = torch.unique(support_labels)\n",
        "        prototypes = []\n",
        "        for label in unique_labels:\n",
        "            class_samples = support_set[support_labels == label]\n",
        "            prototypes.append(class_samples.mean(dim=0))\n",
        "        return torch.stack(prototypes)\n",
        "\n",
        "    def classify(self, query_set, prototypes):\n",
        "        distances = torch.cdist(query_set, prototypes)\n",
        "        return distances.argmin(dim=1)\n"
      ],
      "metadata": {
        "id": "X4yd3iVouGyd"
      },
      "execution_count": 17,
      "outputs": []
    },
    {
      "cell_type": "code",
      "source": [
        "def train_prototypical_network(model, data_loader, optimizer, criterion, n_way, k_shot):\n",
        "    device = torch.device(\"cuda\" if torch.cuda.is_available() else \"cpu\")\n",
        "    model.train()\n",
        "    total_loss, total_accuracy = 0.0, 0.0\n",
        "\n",
        "    for batch_idx, (support_set, query_set, labels) in enumerate(data_loader):\n",
        "\n",
        "        support_set = support_set.view(-1, 1, 28, 28).to(device)\n",
        "        query_set = query_set.view(-1, 1, 28, 28).to(device)\n",
        "        labels = labels.to(device)\n",
        "\n",
        "        embeddings = model(torch.cat([support_set, query_set], dim=0))\n",
        "        support_embeddings, query_embeddings = embeddings[:support_set.size(0)], embeddings[support_set.size(0):]\n",
        "\n",
        "        prototypes = support_embeddings.view(n_way, k_shot, -1).mean(dim=1)\n",
        "\n",
        "        distances = torch.cdist(query_embeddings, prototypes)\n",
        "        logits = -distances\n",
        "\n",
        "        labels = labels.view(-1)\n",
        "\n",
        "        loss = criterion(logits, labels)\n",
        "\n",
        "        optimizer.zero_grad()\n",
        "        loss.backward()\n",
        "        optimizer.step()\n",
        "\n",
        "        _, predicted = logits.max(1)\n",
        "        accuracy = (predicted == labels).float().mean().item()\n",
        "\n",
        "        total_loss += loss.item()\n",
        "        total_accuracy += accuracy\n",
        "\n",
        "    return total_loss / len(data_loader), total_accuracy / len(data_loader)\n"
      ],
      "metadata": {
        "id": "tjUg1VDFuMku"
      },
      "execution_count": 18,
      "outputs": []
    },
    {
      "cell_type": "code",
      "source": [
        "if __name__ == \"__main__\":\n",
        "\n",
        "\n",
        "  device = torch.device(\"cuda\" if torch.cuda.is_available() else \"cpu\")\n",
        "  print(f\"Using device: {device}\")\n",
        "\n",
        "\n",
        "  transform = transforms.Compose([\n",
        "  transforms.Grayscale(),\n",
        "  transforms.Resize((28, 28)),\n",
        "  transforms.ToTensor()\n",
        "\n",
        "])\n",
        "\n",
        "  omniglot_train = Omniglot(root=\"./data\", background=True, download=True, transform=None)\n",
        "  omniglot_test = Omniglot(root=\"./data\", background=False, download=True, transform=None)\n",
        "\n",
        "  train_dataset = FewShotDataset(omniglot_train, n_way=5, k_shot=5, q_query=5, transform=transform)\n",
        "  train_loader = DataLoader(train_dataset, batch_size=1, shuffle=True)\n",
        "\n",
        "\n",
        "  model = PrototypicalNetwork(input_size=1, embedding_size=64).to(device)\n",
        "  optimizer = optim.Adam(model.parameters(), lr=0.001)\n",
        "  criterion = nn.CrossEntropyLoss()\n",
        "  epochs = 10\n",
        "  for epoch in range(epochs):\n",
        "      loss, accuracy = train_prototypical_network(model, train_loader, optimizer, criterion, n_way=5, k_shot=5)\n",
        "      print(f\"Epoch {epoch + 1}/{epochs}, Loss: {loss:.4f}, Accuracy: {accuracy:.4f}\")\n",
        "\n",
        "\n"
      ],
      "metadata": {
        "colab": {
          "base_uri": "https://localhost:8080/"
        },
        "id": "_XeTOjIjuRB_",
        "outputId": "74b850ec-0ea1-4638-b184-f438310f310a"
      },
      "execution_count": 19,
      "outputs": [
        {
          "output_type": "stream",
          "name": "stdout",
          "text": [
            "Using device: cuda\n",
            "Files already downloaded and verified\n",
            "Files already downloaded and verified\n",
            "Epoch 1/10, Loss: 0.1819, Accuracy: 0.9375\n",
            "Epoch 2/10, Loss: 0.0802, Accuracy: 0.9732\n",
            "Epoch 3/10, Loss: 0.0537, Accuracy: 0.9819\n",
            "Epoch 4/10, Loss: 0.0440, Accuracy: 0.9852\n",
            "Epoch 5/10, Loss: 0.0371, Accuracy: 0.9870\n",
            "Epoch 6/10, Loss: 0.0355, Accuracy: 0.9873\n",
            "Epoch 7/10, Loss: 0.0315, Accuracy: 0.9884\n",
            "Epoch 8/10, Loss: 0.0289, Accuracy: 0.9900\n",
            "Epoch 9/10, Loss: 0.0265, Accuracy: 0.9913\n",
            "Epoch 10/10, Loss: 0.0266, Accuracy: 0.9912\n"
          ]
        }
      ]
    }
  ]
}