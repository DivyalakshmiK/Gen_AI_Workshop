{
  "nbformat": 4,
  "nbformat_minor": 0,
  "metadata": {
    "colab": {
      "provenance": []
    },
    "kernelspec": {
      "name": "python3",
      "display_name": "Python 3"
    },
    "language_info": {
      "name": "python"
    }
  },
  "cells": [
    {
      "cell_type": "code",
      "execution_count": null,
      "metadata": {
        "id": "HhDcAE0wNxd7"
      },
      "outputs": [],
      "source": [
        "from transformers import pipeline"
      ]
    },
    {
      "cell_type": "code",
      "source": [
        "pipelinee = pipeline(\"sentiment-analysis\")"
      ],
      "metadata": {
        "colab": {
          "base_uri": "https://localhost:8080/"
        },
        "id": "7mUqhizxN2LA",
        "outputId": "6908bf0b-3e5d-42a7-f83f-caa1462023ec"
      },
      "execution_count": null,
      "outputs": [
        {
          "output_type": "stream",
          "name": "stderr",
          "text": [
            "No model was supplied, defaulted to distilbert/distilbert-base-uncased-finetuned-sst-2-english and revision 714eb0f (https://huggingface.co/distilbert/distilbert-base-uncased-finetuned-sst-2-english).\n",
            "Using a pipeline without specifying a model name and revision in production is not recommended.\n"
          ]
        }
      ]
    },
    {
      "cell_type": "code",
      "source": [
        "def classify(sentence):\n",
        "  result = pipelinee(sentence)[0]\n",
        "  label = result['label']\n",
        "  score = result['score']\n",
        "\n",
        "  if label == 'POSITIVE' and score >= 0.9:\n",
        "    return \"Positive\"\n",
        "  elif label == \"NEGATIVE\" and score >= 0.9:\n",
        "    return \"Negative\"\n",
        "  else:\n",
        "    return \"Neutral\""
      ],
      "metadata": {
        "id": "iXwaAU-kN9eG"
      },
      "execution_count": null,
      "outputs": []
    },
    {
      "cell_type": "code",
      "source": [
        "sentences = [\"This is a terrible place\", \"It okay, I guess\", \"I finally got into my dream university!\", \"The server is down and great I lost my progress\", \"It's okay, nothing special\"]\n",
        "\n",
        "for i in sentences:\n",
        "  print(f\"Sentence:{i} - Sentiment: {classify(i)}\")"
      ],
      "metadata": {
        "colab": {
          "base_uri": "https://localhost:8080/"
        },
        "id": "d9wFwL8fOe4f",
        "outputId": "ae25ffda-e887-4e43-cfab-26d73bb1e136"
      },
      "execution_count": null,
      "outputs": [
        {
          "output_type": "stream",
          "name": "stdout",
          "text": [
            "Sentence:This is a terrible place - Sentiment: Negative\n",
            "Sentence:It okay, I guess - Sentiment: Positive\n",
            "Sentence:I finally got into my dream university! - Sentiment: Positive\n",
            "Sentence:The server is down and great I lost my progress - Sentiment: Negative\n",
            "Sentence:It's okay, nothing special - Sentiment: Negative\n"
          ]
        }
      ]
    }
  ]
}